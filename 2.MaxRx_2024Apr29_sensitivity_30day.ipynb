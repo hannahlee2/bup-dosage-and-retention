{
 "cells": [
  {
   "cell_type": "markdown",
   "id": "fc6519c3-6a95-4842-82c9-951c351532f4",
   "metadata": {},
   "source": [
    "## Read and clean the treatment episode data"
   ]
  },
  {
   "cell_type": "code",
   "execution_count": 1,
   "id": "6abe2421-e454-4fc7-aefc-acae2ec29f5e",
   "metadata": {},
   "outputs": [],
   "source": [
    "# Import related libraries\n",
    "import pandas as pd\n",
    "import uuid"
   ]
  },
  {
   "cell_type": "code",
   "execution_count": 2,
   "id": "2dc7c502",
   "metadata": {},
   "outputs": [
    {
     "data": {
      "text/plain": [
       "(1222644, 6)"
      ]
     },
     "execution_count": 2,
     "metadata": {},
     "output_type": "execute_result"
    }
   ],
   "source": [
    "# Load the CSV file into a DataFrame\n",
    "episode = pd.read_csv('file path')\n",
    "episode.shape"
   ]
  },
  {
   "cell_type": "markdown",
   "id": "ed6ae613-814c-4bc7-90ae-ffb6d504bab6",
   "metadata": {},
   "source": [
    "We have 1.2M unique episodes in this data file with GAP = 30 days."
   ]
  },
  {
   "cell_type": "code",
   "execution_count": 3,
   "id": "35d83b97",
   "metadata": {},
   "outputs": [
    {
     "name": "stdout",
     "output_type": "stream",
     "text": [
      "Earliest Date: 2014-01-01 00:00:00\n"
     ]
    }
   ],
   "source": [
    "# Create unique ID for each patient's episodes\n",
    "episode['uuid'] = [uuid.uuid4() for _ in range(len(episode.index))]\n",
    "\n",
    "# Ensure the 'episode.start' column to datetime\n",
    "episode['episode.start'] = pd.to_datetime(episode['episode.start'])\n",
    "\n",
    "# Ensure the 'episode.end' column is a datetime\n",
    "episode['episode.end'] = pd.to_datetime(episode['episode.end'])\n",
    "\n",
    "# Min 'episode.start' is greater than 2014\n",
    "# filtered_episode = episode[episode['episode.start'].dt.year >= 2014]\n",
    "print(\"Earliest Date:\", episode['episode.start'].min())"
   ]
  },
  {
   "cell_type": "markdown",
   "id": "e2eac954-5f1f-4781-952d-a0c4f65243b6",
   "metadata": {},
   "source": [
    "## Read and clean the buprenorphine prescription data"
   ]
  },
  {
   "cell_type": "code",
   "execution_count": 4,
   "id": "8033511e",
   "metadata": {},
   "outputs": [
    {
     "data": {
      "text/plain": [
       "(16276713, 10)"
      ]
     },
     "execution_count": 4,
     "metadata": {},
     "output_type": "execute_result"
    }
   ],
   "source": [
    "# Load the buprenorphine prescription file\n",
    "# Already did some cleaning and this is the data used for building the treatment episodes\n",
    "RX = pd.read_csv(\"file path\")\n",
    "RX.shape"
   ]
  },
  {
   "cell_type": "markdown",
   "id": "c9768620-a985-454c-8064-879e66a8fceb",
   "metadata": {},
   "source": [
    "We have a total of 16,276,713 RXs."
   ]
  },
  {
   "cell_type": "code",
   "execution_count": 5,
   "id": "11570447-37dd-4b57-bdd0-ea633c101305",
   "metadata": {},
   "outputs": [
    {
     "name": "stdout",
     "output_type": "stream",
     "text": [
      "{'8-2MG', '12-3 MG', '4-1 MG', '8-2 MG', '2-0.5 MG'}\n"
     ]
    }
   ],
   "source": [
    "# Double check unique value for strength\n",
    "print(set(RX['STRNT_DESC']))"
   ]
  },
  {
   "cell_type": "markdown",
   "id": "9ce620cf-da32-4098-8af7-ff6b656aea23",
   "metadata": {},
   "source": [
    "#### We will clean up the RXs by keeping records with positive value for days supply and dispensed quantity. Then we will calculate the average daily dosage."
   ]
  },
  {
   "cell_type": "code",
   "execution_count": 6,
   "id": "2353cc78-b90b-4db9-a648-e3f3ac35bd74",
   "metadata": {},
   "outputs": [
    {
     "data": {
      "text/plain": [
       "(16276713, 10)"
      ]
     },
     "execution_count": 6,
     "metadata": {},
     "output_type": "execute_result"
    }
   ],
   "source": [
    "# Double check\n",
    "# Filter positive value for days supply and quantity dispensed\n",
    "RX = RX[(RX['DAYS_SUPPLY_CNT'] >0) & (RX['DSPNSD_QTY'] > 0)]\n",
    "RX.shape"
   ]
  },
  {
   "cell_type": "code",
   "execution_count": 7,
   "id": "05bece35-236b-49d2-8adc-11ea3c169822",
   "metadata": {},
   "outputs": [
    {
     "name": "stdout",
     "output_type": "stream",
     "text": [
      "{8, 2, 12, 4}\n"
     ]
    }
   ],
   "source": [
    "# Extract the first value from the STRNT_DESC column \n",
    "# If the format is \"a-b UNIT\", extract 'a'. If the format is \"a UNIT\", keep 'a'\n",
    "RX['STRNT_Bup'] = RX['STRNT_DESC'].apply(lambda x: x.split('-')[0] if '-' in x else x.split()[0])\n",
    "\n",
    "# Ensure that the STRNT_Bup column is numeric\n",
    "RX['STRNT_Bup'] = pd.to_numeric(RX['STRNT_Bup'], errors='coerce')\n",
    "\n",
    "print(set(RX['STRNT_Bup']))"
   ]
  },
  {
   "cell_type": "code",
   "execution_count": 8,
   "id": "818e9150-dc48-4b45-8105-aaa38114ca14",
   "metadata": {},
   "outputs": [
    {
     "name": "stdout",
     "output_type": "stream",
     "text": [
      "0.0011995665218155532\n"
     ]
    }
   ],
   "source": [
    "# Calculate the dosage as STRNT_Bup * DSPNSD_QTY / DAYS_SUPPLY_CNT\n",
    "RX['dosage'] = RX['STRNT_Bup'] * (RX['DSPNSD_QTY'] / RX['DAYS_SUPPLY_CNT'])\n",
    "\n",
    "# How many % of the records have dosage>40\n",
    "print(len(RX[RX['dosage']>40])/len(RX))"
   ]
  },
  {
   "cell_type": "code",
   "execution_count": 9,
   "id": "e1fa1ff8-09f4-4bed-ae96-bbc8448c9b2c",
   "metadata": {},
   "outputs": [
    {
     "name": "stdout",
     "output_type": "stream",
     "text": [
      "0\n"
     ]
    },
    {
     "data": {
      "text/plain": [
       "16276713"
      ]
     },
     "execution_count": 9,
     "metadata": {},
     "output_type": "execute_result"
    }
   ],
   "source": [
    "# Check number of duplicates\n",
    "print(RX.duplicated().sum())\n",
    "# Remove duplicates if needed\n",
    "# RX = RX.drop_duplicates(keep=False)\n",
    "len(RX)"
   ]
  },
  {
   "cell_type": "markdown",
   "id": "ccdbc94f-c593-4284-88fb-757cff727d41",
   "metadata": {},
   "source": [
    "We have 16,276,713 filtered RXs. "
   ]
  },
  {
   "cell_type": "markdown",
   "id": "5919ac0e-2ec8-434a-956b-53722c76f589",
   "metadata": {},
   "source": [
    "## Merge treatment episode data and buprenorphine RXs data"
   ]
  },
  {
   "cell_type": "code",
   "execution_count": 10,
   "id": "bcb7a340-3f58-4001-8f2b-93033b7ad4ef",
   "metadata": {},
   "outputs": [],
   "source": [
    "# Merging the episode data and RXs data\n",
    "episode_RX = episode.merge(RX, on='PATIENT_ID', how='inner')"
   ]
  },
  {
   "cell_type": "code",
   "execution_count": 11,
   "id": "a43b09c5",
   "metadata": {},
   "outputs": [
    {
     "data": {
      "text/plain": [
       "16276713"
      ]
     },
     "execution_count": 11,
     "metadata": {},
     "output_type": "execute_result"
    }
   ],
   "source": [
    "# First, make sure the SVC_DT is datetime\n",
    "episode_RX['SVC_DT'] = pd.to_datetime(episode_RX['SVC_DT'].astype(str), format='%Y%m%d').dt.normalize()\n",
    "\n",
    "# Second, only keep the matched records when the RXs fall within an episode start date and episode end date\n",
    "episode_RX = episode_RX[(episode_RX['SVC_DT'] >= episode_RX['episode.start']) & (episode_RX['SVC_DT'] <= episode_RX['episode.end'])]\n",
    "len(episode_RX)"
   ]
  },
  {
   "cell_type": "markdown",
   "id": "f2785c74-d6f4-4364-a93d-9cb9f3d368be",
   "metadata": {},
   "source": [
    "All 16,276,713 RXs successfully merged back with episode data."
   ]
  },
  {
   "cell_type": "code",
   "execution_count": 12,
   "id": "d612b7f3",
   "metadata": {},
   "outputs": [],
   "source": [
    "# Make sure these variables are in the datetime format\n",
    "episode_RX['episode.start'] = pd.to_datetime(episode_RX['episode.start'])\n",
    "episode_RX['episode.end'] = pd.to_datetime(episode_RX['episode.end'])"
   ]
  },
  {
   "cell_type": "code",
   "execution_count": 13,
   "id": "3182ad08-4fda-45a3-9149-bf5de2a824c3",
   "metadata": {},
   "outputs": [
    {
     "name": "stdout",
     "output_type": "stream",
     "text": [
      "0.0011995665218155532\n",
      "8832\n"
     ]
    }
   ],
   "source": [
    "# Check how many episodes involves a dosage>40\n",
    "epi_dosage40 = episode_RX[episode_RX['dosage']>40]\n",
    "\n",
    "# Double check to see whether it matches with the previous check at RX level\n",
    "print(len(epi_dosage40)/len(episode_RX))\n",
    "print(len(set(epi_dosage40['uuid'])))"
   ]
  },
  {
   "cell_type": "code",
   "execution_count": 14,
   "id": "6a61450d-db07-459e-95e0-9d6a4efea17d",
   "metadata": {},
   "outputs": [
    {
     "name": "stdout",
     "output_type": "stream",
     "text": [
      "15606863\n",
      "1213812\n"
     ]
    }
   ],
   "source": [
    "# Remove these records from the future analyses\n",
    "episode_RX_keep = episode_RX[~episode_RX.uuid.isin(epi_dosage40.uuid)]\n",
    "print(len(episode_RX_keep))\n",
    "print(len(set(episode_RX_keep['uuid'])))"
   ]
  },
  {
   "cell_type": "markdown",
   "id": "1ae69b3d-239c-4ab1-82e9-5d1bb744ae80",
   "metadata": {},
   "source": [
    "We initially have 1,222,644 episodes, 8,832 involve a dosage>40; after excluding these we have 1,213,812 episodes left; the data file with episodes and RXs merged now have 15,606,863 recrods."
   ]
  },
  {
   "cell_type": "code",
   "execution_count": 15,
   "id": "63d34c03-720b-4f8d-8207-33e6e5ae5523",
   "metadata": {},
   "outputs": [
    {
     "data": {
      "text/html": [
       "<div>\n",
       "<style scoped>\n",
       "    .dataframe tbody tr th:only-of-type {\n",
       "        vertical-align: middle;\n",
       "    }\n",
       "\n",
       "    .dataframe tbody tr th {\n",
       "        vertical-align: top;\n",
       "    }\n",
       "\n",
       "    .dataframe thead th {\n",
       "        text-align: right;\n",
       "    }\n",
       "</style>\n",
       "<table border=\"1\" class=\"dataframe\">\n",
       "  <thead>\n",
       "    <tr style=\"text-align: right;\">\n",
       "      <th></th>\n",
       "      <th>STRNT_Bup</th>\n",
       "      <th>DSPNSD_QTY</th>\n",
       "      <th>dosage</th>\n",
       "    </tr>\n",
       "  </thead>\n",
       "  <tbody>\n",
       "    <tr>\n",
       "      <th>count</th>\n",
       "      <td>1.560686e+07</td>\n",
       "      <td>1.560686e+07</td>\n",
       "      <td>1.560686e+07</td>\n",
       "    </tr>\n",
       "    <tr>\n",
       "      <th>mean</th>\n",
       "      <td>7.665011e+00</td>\n",
       "      <td>2.898492e+01</td>\n",
       "      <td>1.427824e+01</td>\n",
       "    </tr>\n",
       "    <tr>\n",
       "      <th>std</th>\n",
       "      <td>1.662581e+00</td>\n",
       "      <td>2.457462e+01</td>\n",
       "      <td>5.940885e+00</td>\n",
       "    </tr>\n",
       "    <tr>\n",
       "      <th>min</th>\n",
       "      <td>2.000000e+00</td>\n",
       "      <td>5.000000e-01</td>\n",
       "      <td>5.714286e-02</td>\n",
       "    </tr>\n",
       "    <tr>\n",
       "      <th>25%</th>\n",
       "      <td>8.000000e+00</td>\n",
       "      <td>1.100000e+01</td>\n",
       "      <td>8.000000e+00</td>\n",
       "    </tr>\n",
       "    <tr>\n",
       "      <th>50%</th>\n",
       "      <td>8.000000e+00</td>\n",
       "      <td>2.100000e+01</td>\n",
       "      <td>1.600000e+01</td>\n",
       "    </tr>\n",
       "    <tr>\n",
       "      <th>75%</th>\n",
       "      <td>8.000000e+00</td>\n",
       "      <td>4.500000e+01</td>\n",
       "      <td>1.600000e+01</td>\n",
       "    </tr>\n",
       "    <tr>\n",
       "      <th>max</th>\n",
       "      <td>1.200000e+01</td>\n",
       "      <td>1.680000e+02</td>\n",
       "      <td>4.000000e+01</td>\n",
       "    </tr>\n",
       "  </tbody>\n",
       "</table>\n",
       "</div>"
      ],
      "text/plain": [
       "          STRNT_Bup    DSPNSD_QTY        dosage\n",
       "count  1.560686e+07  1.560686e+07  1.560686e+07\n",
       "mean   7.665011e+00  2.898492e+01  1.427824e+01\n",
       "std    1.662581e+00  2.457462e+01  5.940885e+00\n",
       "min    2.000000e+00  5.000000e-01  5.714286e-02\n",
       "25%    8.000000e+00  1.100000e+01  8.000000e+00\n",
       "50%    8.000000e+00  2.100000e+01  1.600000e+01\n",
       "75%    8.000000e+00  4.500000e+01  1.600000e+01\n",
       "max    1.200000e+01  1.680000e+02  4.000000e+01"
      ]
     },
     "execution_count": 15,
     "metadata": {},
     "output_type": "execute_result"
    }
   ],
   "source": [
    "# Double check\n",
    "episode_RX_keep[[\"STRNT_Bup\", \"DSPNSD_QTY\",\"dosage\"]].describe()"
   ]
  },
  {
   "cell_type": "markdown",
   "id": "e7a0152c-2295-4ffe-8fdc-c01dd4a1158c",
   "metadata": {},
   "source": [
    "## Create max dosage value based on different time points"
   ]
  },
  {
   "cell_type": "code",
   "execution_count": 17,
   "id": "2799f234",
   "metadata": {},
   "outputs": [],
   "source": [
    "# Group by 'uuid'\n",
    "groupedby_PI_ES = episode_RX_keep.groupby(by=['uuid'])"
   ]
  },
  {
   "cell_type": "code",
   "execution_count": 18,
   "id": "4b1ddafd",
   "metadata": {},
   "outputs": [],
   "source": [
    "required_months = [1, 3, 6, 12, 18]\n",
    "\n",
    "# Define a function to calculate the maximum dosage for each period\n",
    "def calculate_max_dosage(group, periods):\n",
    "    group = group.sort_values('SVC_DT')\n",
    "    uuid = group['uuid'].iloc[0]  # Get the group identifier\n",
    "    results = {}\n",
    "    group['total_dosage'] = group.groupby('SVC_DT')['dosage'].transform('sum')\n",
    "    for period in periods:\n",
    "        # Calculate the cutoff date from the first 'episode.start' plus the period in months\n",
    "        cutoff_date = group['episode.start'].iloc[0] + pd.DateOffset(months=period)\n",
    "        # Filter dosages up to the cutoff date and calculate the max dosage\n",
    "        max_dosage = group[group['SVC_DT'] <= cutoff_date]['total_dosage'].max()\n",
    "        results[f'max_dosage_{period}M'] = max_dosage\n",
    "    results['uuid'] = uuid  # Add the uuid to the results\n",
    "    return pd.Series(results)\n",
    "\n",
    "# Apply the function to each group and combine the results into a DataFrame\n",
    "max_dosage_results = groupedby_PI_ES.apply(calculate_max_dosage, periods=required_months)\n",
    "\n",
    "# Ensure the results DataFrame has one row per group, reset the index if needed\n",
    "max_dosage_results.reset_index(drop=True, inplace=True)\n",
    "\n",
    "# Merge the calculated max dosages back \n",
    "# This assumes 'uuid' is a column in episode_RX that can be used to merge\n",
    "episode_RX_var = pd.merge(episode_RX_keep, max_dosage_results, on='uuid', how='left')\n"
   ]
  },
  {
   "cell_type": "code",
   "execution_count": 19,
   "id": "cfe8eeec-698f-4cb7-a494-7497422de2ff",
   "metadata": {},
   "outputs": [
    {
     "name": "stdout",
     "output_type": "stream",
     "text": [
      "15606863\n",
      "1213812\n"
     ]
    }
   ],
   "source": [
    "# Check number of rows\n",
    "print(len(episode_RX_var))\n",
    "print(len(max_dosage_results))"
   ]
  },
  {
   "cell_type": "code",
   "execution_count": 20,
   "id": "504054c0-0170-4907-9336-7a5935d8b2c8",
   "metadata": {},
   "outputs": [
    {
     "data": {
      "text/plain": [
       "1213812"
      ]
     },
     "execution_count": 20,
     "metadata": {},
     "output_type": "execute_result"
    }
   ],
   "source": [
    "# Check number of unique episodes\n",
    "len(set(episode_RX_var['uuid']))"
   ]
  },
  {
   "cell_type": "code",
   "execution_count": 21,
   "id": "8108cdb8",
   "metadata": {},
   "outputs": [],
   "source": [
    "# Save the data\n",
    "episode_RX_var.to_csv('file path',index=False)"
   ]
  },
  {
   "cell_type": "code",
   "execution_count": null,
   "id": "b6fd22ef-3c50-441e-9bae-e3bd4bef021e",
   "metadata": {},
   "outputs": [],
   "source": []
  }
 ],
 "metadata": {
  "kernelspec": {
   "display_name": "Python 3 (ipykernel)",
   "language": "python",
   "name": "python3"
  },
  "language_info": {
   "codemirror_mode": {
    "name": "ipython",
    "version": 3
   },
   "file_extension": ".py",
   "mimetype": "text/x-python",
   "name": "python",
   "nbconvert_exporter": "python",
   "pygments_lexer": "ipython3",
   "version": "3.11.7"
  }
 },
 "nbformat": 4,
 "nbformat_minor": 5
}
